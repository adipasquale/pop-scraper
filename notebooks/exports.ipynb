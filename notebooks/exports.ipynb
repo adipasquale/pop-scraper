{
 "cells": [
  {
   "cell_type": "code",
   "execution_count": 1,
   "id": "6ffd7a3a-5024-4d9d-9891-0ff102f3793d",
   "metadata": {
    "collapsed": true,
    "jupyter": {
     "outputs_hidden": true
    }
   },
   "outputs": [],
   "source": [
    "import pandas as pd\n",
    "import os, shutil"
   ]
  },
  {
   "cell_type": "code",
   "execution_count": 2,
   "id": "138938e7-bda7-4420-9c6e-4ad715367802",
   "metadata": {
    "collapsed": true,
    "jupyter": {
     "outputs_hidden": true
    }
   },
   "outputs": [
    {
     "data": {
      "text/plain": [
       "'/Users/adipasquale/dev/pop-scraper'"
      ]
     },
     "execution_count": 2,
     "metadata": {},
     "output_type": "execute_result"
    }
   ],
   "source": [
    "current_path = os.path.abspath('')\n",
    "current_path"
   ]
  },
  {
   "cell_type": "code",
   "execution_count": 3,
   "id": "5817e6ac-e333-43c2-bbe1-fb51532f4308",
   "metadata": {
    "collapsed": true,
    "jupyter": {
     "outputs_hidden": true
    }
   },
   "outputs": [
    {
     "data": {
      "text/plain": [
       "'/Users/adipasquale/dev/pop-scraper/exports/palissy.csv'"
      ]
     },
     "execution_count": 3,
     "metadata": {},
     "output_type": "execute_result"
    }
   ],
   "source": [
    "path = os.path.join(current_path, \"exports/palissy.csv\")\n",
    "path"
   ]
  },
  {
   "cell_type": "code",
   "execution_count": 4,
   "id": "f1400ffb-8987-4c4b-bbe2-fa494822c0fa",
   "metadata": {
    "collapsed": true,
    "jupyter": {
     "outputs_hidden": true
    }
   },
   "outputs": [
    {
     "name": "stderr",
     "output_type": "stream",
     "text": [
      "/Users/adipasquale/dev/pop-scraper/exports/lib.py:4: DtypeWarning: Columns (1,2,4,6,7,17,18,21,23,30,34,45,46,47,48,50,51,52,53,54,56,57,58,59,60,64,65,66,67,68,69,70,71,74,75,78,83,85,86,90,102,103,104,105,110,116,117,121,122,123,125,126,127) have mixed types. Specify dtype option on import or set low_memory=False.\n",
      "  df = pd.read_csv(csv_path, dtype={\"DPT\": str})\n"
     ]
    }
   ],
   "source": [
    "from exports.lib import load_export_df\n",
    "df = load_export_df(path)"
   ]
  },
  {
   "cell_type": "code",
   "execution_count": 5,
   "id": "4388a660-2ca6-4aa5-b1d1-acc4dbbe9bae",
   "metadata": {
    "collapsed": true,
    "jupyter": {
     "outputs_hidden": true
    }
   },
   "outputs": [
    {
     "data": {
      "text/plain": [
       "'/Users/adipasquale/dev/pop-scraper/exports/palissy'"
      ]
     },
     "execution_count": 5,
     "metadata": {},
     "output_type": "execute_result"
    }
   ],
   "source": [
    "filename_without_ext = os.path.basename(path).replace(\".csv\", \"\")\n",
    "output_dir = os.path.join(current_path, f\"exports/{filename_without_ext}\")\n",
    "output_dir"
   ]
  },
  {
   "cell_type": "code",
   "execution_count": 6,
   "id": "f790c779-c1f5-45d5-80d5-70aed11dc7de",
   "metadata": {
    "collapsed": true,
    "jupyter": {
     "outputs_hidden": true
    },
    "tags": []
   },
   "outputs": [],
   "source": [
    "if os.path.exists(output_dir):\n",
    "    # os.remove(os.path.join(output_dir, \"*.csv\"))\n",
    "    # os.rmdir(output_dir)\n",
    "    shutil.rmtree(output_dir)\n",
    "os.mkdir(output_dir)"
   ]
  },
  {
   "cell_type": "code",
   "execution_count": 8,
   "id": "58c9bae9-ac6e-453e-b370-66fbeaf55686",
   "metadata": {
    "collapsed": true,
    "jupyter": {
     "outputs_hidden": true
    }
   },
   "outputs": [
    {
     "name": "stdout",
     "output_type": "stream",
     "text": [
      "exporting 2773 rows into /Users/adipasquale/dev/pop-scraper/exports/palissy/palissy_dpt_01.csv\n",
      "exporting 3662 rows into /Users/adipasquale/dev/pop-scraper/exports/palissy/palissy_dpt_02.csv\n",
      "exporting 1184 rows into /Users/adipasquale/dev/pop-scraper/exports/palissy/palissy_dpt_03.csv\n",
      "exporting 3416 rows into /Users/adipasquale/dev/pop-scraper/exports/palissy/palissy_dpt_04.csv\n",
      "exporting 2602 rows into /Users/adipasquale/dev/pop-scraper/exports/palissy/palissy_dpt_05.csv\n",
      "exporting 4338 rows into /Users/adipasquale/dev/pop-scraper/exports/palissy/palissy_dpt_06.csv\n",
      "exporting 1411 rows into /Users/adipasquale/dev/pop-scraper/exports/palissy/palissy_dpt_07.csv\n",
      "exporting 1335 rows into /Users/adipasquale/dev/pop-scraper/exports/palissy/palissy_dpt_08.csv\n",
      "exporting 5355 rows into /Users/adipasquale/dev/pop-scraper/exports/palissy/palissy_dpt_09.csv\n",
      "exporting 4943 rows into /Users/adipasquale/dev/pop-scraper/exports/palissy/palissy_dpt_10.csv\n",
      "exporting 3154 rows into /Users/adipasquale/dev/pop-scraper/exports/palissy/palissy_dpt_11.csv\n",
      "exporting 1921 rows into /Users/adipasquale/dev/pop-scraper/exports/palissy/palissy_dpt_12.csv\n",
      "exporting 3235 rows into /Users/adipasquale/dev/pop-scraper/exports/palissy/palissy_dpt_13.csv\n",
      "exporting 4087 rows into /Users/adipasquale/dev/pop-scraper/exports/palissy/palissy_dpt_14.csv\n",
      "exporting 1526 rows into /Users/adipasquale/dev/pop-scraper/exports/palissy/palissy_dpt_15.csv\n",
      "exporting 687 rows into /Users/adipasquale/dev/pop-scraper/exports/palissy/palissy_dpt_16.csv\n",
      "exporting 2733 rows into /Users/adipasquale/dev/pop-scraper/exports/palissy/palissy_dpt_17.csv\n",
      "exporting 1375 rows into /Users/adipasquale/dev/pop-scraper/exports/palissy/palissy_dpt_18.csv\n",
      "exporting 1573 rows into /Users/adipasquale/dev/pop-scraper/exports/palissy/palissy_dpt_19.csv\n",
      "exporting 6138 rows into /Users/adipasquale/dev/pop-scraper/exports/palissy/palissy_dpt_21.csv\n",
      "exporting 5347 rows into /Users/adipasquale/dev/pop-scraper/exports/palissy/palissy_dpt_22.csv\n",
      "exporting 1106 rows into /Users/adipasquale/dev/pop-scraper/exports/palissy/palissy_dpt_23.csv\n",
      "exporting 2919 rows into /Users/adipasquale/dev/pop-scraper/exports/palissy/palissy_dpt_24.csv\n",
      "exporting 3119 rows into /Users/adipasquale/dev/pop-scraper/exports/palissy/palissy_dpt_25.csv\n",
      "exporting 2424 rows into /Users/adipasquale/dev/pop-scraper/exports/palissy/palissy_dpt_26.csv\n",
      "exporting 3796 rows into /Users/adipasquale/dev/pop-scraper/exports/palissy/palissy_dpt_27.csv\n",
      "exporting 2010 rows into /Users/adipasquale/dev/pop-scraper/exports/palissy/palissy_dpt_28.csv\n",
      "exporting 4683 rows into /Users/adipasquale/dev/pop-scraper/exports/palissy/palissy_dpt_29.csv\n",
      "exporting 812 rows into /Users/adipasquale/dev/pop-scraper/exports/palissy/palissy_dpt_2A.csv\n",
      "exporting 1334 rows into /Users/adipasquale/dev/pop-scraper/exports/palissy/palissy_dpt_2B.csv\n",
      "exporting 2280 rows into /Users/adipasquale/dev/pop-scraper/exports/palissy/palissy_dpt_30.csv\n",
      "exporting 2564 rows into /Users/adipasquale/dev/pop-scraper/exports/palissy/palissy_dpt_31.csv\n",
      "exporting 1733 rows into /Users/adipasquale/dev/pop-scraper/exports/palissy/palissy_dpt_32.csv\n",
      "exporting 2994 rows into /Users/adipasquale/dev/pop-scraper/exports/palissy/palissy_dpt_33.csv\n",
      "exporting 4903 rows into /Users/adipasquale/dev/pop-scraper/exports/palissy/palissy_dpt_34.csv\n",
      "exporting 3250 rows into /Users/adipasquale/dev/pop-scraper/exports/palissy/palissy_dpt_35.csv\n",
      "exporting 5414 rows into /Users/adipasquale/dev/pop-scraper/exports/palissy/palissy_dpt_36.csv\n",
      "exporting 1695 rows into /Users/adipasquale/dev/pop-scraper/exports/palissy/palissy_dpt_37.csv\n",
      "exporting 2132 rows into /Users/adipasquale/dev/pop-scraper/exports/palissy/palissy_dpt_38.csv\n",
      "exporting 3470 rows into /Users/adipasquale/dev/pop-scraper/exports/palissy/palissy_dpt_39.csv\n",
      "exporting 1126 rows into /Users/adipasquale/dev/pop-scraper/exports/palissy/palissy_dpt_40.csv\n",
      "exporting 3463 rows into /Users/adipasquale/dev/pop-scraper/exports/palissy/palissy_dpt_41.csv\n",
      "exporting 2387 rows into /Users/adipasquale/dev/pop-scraper/exports/palissy/palissy_dpt_42.csv\n",
      "exporting 3989 rows into /Users/adipasquale/dev/pop-scraper/exports/palissy/palissy_dpt_43.csv\n",
      "exporting 1681 rows into /Users/adipasquale/dev/pop-scraper/exports/palissy/palissy_dpt_44.csv\n",
      "exporting 2541 rows into /Users/adipasquale/dev/pop-scraper/exports/palissy/palissy_dpt_45.csv\n",
      "exporting 2548 rows into /Users/adipasquale/dev/pop-scraper/exports/palissy/palissy_dpt_46.csv\n",
      "exporting 1431 rows into /Users/adipasquale/dev/pop-scraper/exports/palissy/palissy_dpt_47.csv\n",
      "exporting 1301 rows into /Users/adipasquale/dev/pop-scraper/exports/palissy/palissy_dpt_48.csv\n",
      "exporting 6174 rows into /Users/adipasquale/dev/pop-scraper/exports/palissy/palissy_dpt_49.csv\n",
      "exporting 1593 rows into /Users/adipasquale/dev/pop-scraper/exports/palissy/palissy_dpt_50.csv\n",
      "exporting 3755 rows into /Users/adipasquale/dev/pop-scraper/exports/palissy/palissy_dpt_51.csv\n",
      "exporting 2105 rows into /Users/adipasquale/dev/pop-scraper/exports/palissy/palissy_dpt_52.csv\n",
      "exporting 1321 rows into /Users/adipasquale/dev/pop-scraper/exports/palissy/palissy_dpt_53.csv\n",
      "exporting 2171 rows into /Users/adipasquale/dev/pop-scraper/exports/palissy/palissy_dpt_54.csv\n",
      "exporting 2742 rows into /Users/adipasquale/dev/pop-scraper/exports/palissy/palissy_dpt_55.csv\n",
      "exporting 6414 rows into /Users/adipasquale/dev/pop-scraper/exports/palissy/palissy_dpt_56.csv\n",
      "exporting 1236 rows into /Users/adipasquale/dev/pop-scraper/exports/palissy/palissy_dpt_57.csv\n",
      "exporting 2563 rows into /Users/adipasquale/dev/pop-scraper/exports/palissy/palissy_dpt_58.csv\n",
      "exporting 9178 rows into /Users/adipasquale/dev/pop-scraper/exports/palissy/palissy_dpt_59.csv\n",
      "exporting 3970 rows into /Users/adipasquale/dev/pop-scraper/exports/palissy/palissy_dpt_60.csv\n",
      "exporting 3307 rows into /Users/adipasquale/dev/pop-scraper/exports/palissy/palissy_dpt_61.csv\n",
      "exporting 8662 rows into /Users/adipasquale/dev/pop-scraper/exports/palissy/palissy_dpt_62.csv\n",
      "exporting 3060 rows into /Users/adipasquale/dev/pop-scraper/exports/palissy/palissy_dpt_63.csv\n",
      "exporting 2930 rows into /Users/adipasquale/dev/pop-scraper/exports/palissy/palissy_dpt_64.csv\n",
      "exporting 1822 rows into /Users/adipasquale/dev/pop-scraper/exports/palissy/palissy_dpt_65.csv\n",
      "exporting 1937 rows into /Users/adipasquale/dev/pop-scraper/exports/palissy/palissy_dpt_66.csv\n",
      "exporting 1853 rows into /Users/adipasquale/dev/pop-scraper/exports/palissy/palissy_dpt_67.csv\n",
      "exporting 2052 rows into /Users/adipasquale/dev/pop-scraper/exports/palissy/palissy_dpt_68.csv\n",
      "exporting 3447 rows into /Users/adipasquale/dev/pop-scraper/exports/palissy/palissy_dpt_69.csv\n",
      "exporting 3801 rows into /Users/adipasquale/dev/pop-scraper/exports/palissy/palissy_dpt_70.csv\n",
      "exporting 2187 rows into /Users/adipasquale/dev/pop-scraper/exports/palissy/palissy_dpt_71.csv\n",
      "exporting 3493 rows into /Users/adipasquale/dev/pop-scraper/exports/palissy/palissy_dpt_72.csv\n",
      "exporting 3791 rows into /Users/adipasquale/dev/pop-scraper/exports/palissy/palissy_dpt_73.csv\n",
      "exporting 1543 rows into /Users/adipasquale/dev/pop-scraper/exports/palissy/palissy_dpt_74.csv\n",
      "exporting 4870 rows into /Users/adipasquale/dev/pop-scraper/exports/palissy/palissy_dpt_75.csv\n",
      "exporting 5946 rows into /Users/adipasquale/dev/pop-scraper/exports/palissy/palissy_dpt_76.csv\n",
      "exporting 5018 rows into /Users/adipasquale/dev/pop-scraper/exports/palissy/palissy_dpt_77.csv\n",
      "exporting 2295 rows into /Users/adipasquale/dev/pop-scraper/exports/palissy/palissy_dpt_78.csv\n",
      "exporting 514 rows into /Users/adipasquale/dev/pop-scraper/exports/palissy/palissy_dpt_79.csv\n",
      "exporting 6001 rows into /Users/adipasquale/dev/pop-scraper/exports/palissy/palissy_dpt_80.csv\n",
      "exporting 2221 rows into /Users/adipasquale/dev/pop-scraper/exports/palissy/palissy_dpt_81.csv\n",
      "exporting 1437 rows into /Users/adipasquale/dev/pop-scraper/exports/palissy/palissy_dpt_82.csv\n",
      "exporting 3157 rows into /Users/adipasquale/dev/pop-scraper/exports/palissy/palissy_dpt_83.csv\n",
      "exporting 1728 rows into /Users/adipasquale/dev/pop-scraper/exports/palissy/palissy_dpt_84.csv\n",
      "exporting 1762 rows into /Users/adipasquale/dev/pop-scraper/exports/palissy/palissy_dpt_85.csv\n",
      "exporting 1721 rows into /Users/adipasquale/dev/pop-scraper/exports/palissy/palissy_dpt_86.csv\n",
      "exporting 1739 rows into /Users/adipasquale/dev/pop-scraper/exports/palissy/palissy_dpt_87.csv\n",
      "exporting 1853 rows into /Users/adipasquale/dev/pop-scraper/exports/palissy/palissy_dpt_88.csv\n",
      "exporting 4920 rows into /Users/adipasquale/dev/pop-scraper/exports/palissy/palissy_dpt_89.csv\n",
      "exporting 396 rows into /Users/adipasquale/dev/pop-scraper/exports/palissy/palissy_dpt_90.csv\n",
      "exporting 3371 rows into /Users/adipasquale/dev/pop-scraper/exports/palissy/palissy_dpt_91.csv\n",
      "exporting 476 rows into /Users/adipasquale/dev/pop-scraper/exports/palissy/palissy_dpt_92.csv\n",
      "exporting 795 rows into /Users/adipasquale/dev/pop-scraper/exports/palissy/palissy_dpt_93.csv\n",
      "exporting 525 rows into /Users/adipasquale/dev/pop-scraper/exports/palissy/palissy_dpt_94.csv\n",
      "exporting 1684 rows into /Users/adipasquale/dev/pop-scraper/exports/palissy/palissy_dpt_95.csv\n",
      "exporting 122 rows into /Users/adipasquale/dev/pop-scraper/exports/palissy/palissy_dpt_971.csv\n",
      "exporting 115 rows into /Users/adipasquale/dev/pop-scraper/exports/palissy/palissy_dpt_972.csv\n",
      "exporting 71 rows into /Users/adipasquale/dev/pop-scraper/exports/palissy/palissy_dpt_973.csv\n",
      "exporting 163 rows into /Users/adipasquale/dev/pop-scraper/exports/palissy/palissy_dpt_974.csv\n",
      "exporting 19 rows into /Users/adipasquale/dev/pop-scraper/exports/palissy/palissy_dpt_975.csv\n"
     ]
    }
   ],
   "source": [
    "dpts = sorted(df.DPT.dropna().unique())\n",
    "for dpt in dpts:\n",
    "    df_dpt = df[df.DPT == dpt]\n",
    "    output_path = os.path.join(output_dir, f\"{filename_without_ext}_dpt_{dpt}.csv\")\n",
    "    print(f\"exporting {df_dpt.shape[0]} rows into {output_path}\")\n",
    "    df_dpt.to_csv(output_path, index=False)"
   ]
  },
  {
   "cell_type": "code",
   "execution_count": null,
   "id": "466d7c00-cac0-43a1-ba8a-e927f1229fda",
   "metadata": {
    "collapsed": true,
    "jupyter": {
     "outputs_hidden": true
    }
   },
   "outputs": [],
   "source": []
  }
 ],
 "metadata": {
  "kernelspec": {
   "display_name": "Python 3 (ipykernel)",
   "language": "python",
   "name": "python3"
  },
  "language_info": {
   "codemirror_mode": {
    "name": "ipython",
    "version": 3
   },
   "file_extension": ".py",
   "mimetype": "text/x-python",
   "name": "python",
   "nbconvert_exporter": "python",
   "pygments_lexer": "ipython3",
   "version": "3.9.7"
  }
 },
 "nbformat": 4,
 "nbformat_minor": 5
}

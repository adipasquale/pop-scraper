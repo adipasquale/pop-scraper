{
 "cells": [
  {
   "cell_type": "code",
   "execution_count": 2,
   "id": "6f41dae2-770b-4762-9e2b-fa29ff461ae9",
   "metadata": {},
   "outputs": [],
   "source": [
    "import pandas as pd\n",
    "import csv"
   ]
  },
  {
   "cell_type": "code",
   "execution_count": 3,
   "id": "0dd6dba2-eaac-4b0c-bf00-48021847318d",
   "metadata": {},
   "outputs": [
    {
     "name": "stderr",
     "output_type": "stream",
     "text": [
      "/Users/adipasquale/dev/pop-scraper/exports/lib.py:4: DtypeWarning: Columns (1,2,4,6,7,17,18,21,23,30,34,45,46,47,48,50,51,52,53,54,56,57,58,59,60,64,65,66,67,68,69,70,71,74,75,78,83,85,86,90,102,103,104,105,110,116,117,121,122,123,125,126,127) have mixed types. Specify dtype option on import or set low_memory=False.\n",
      "  df = pd.read_csv(csv_path, dtype={\"DPT\": str})\n"
     ]
    }
   ],
   "source": [
    "from exports.lib import load_export_df\n",
    "df = load_export_df(\"../exports/palissy.csv\")"
   ]
  },
  {
   "cell_type": "code",
   "execution_count": 4,
   "id": "6fa41f57-1691-4d20-b1f2-d976b30326dd",
   "metadata": {},
   "outputs": [
    {
     "data": {
      "text/plain": [
       "Index(['ACQU', 'ADRS', 'AFIG', 'AIRE', 'APPL', 'ATEL', 'AUTP', 'AUTR', 'BASE',\n",
       "       'BIBL',\n",
       "       ...\n",
       "       'TICO', 'TITR', 'TOUT', 'VIDEO', 'VOLS', 'WADRS', 'WCOM', 'WEB',\n",
       "       'WRENV', 'ZONE'],\n",
       "      dtype='object', length=127)"
      ]
     },
     "execution_count": 4,
     "metadata": {},
     "output_type": "execute_result"
    }
   ],
   "source": [
    "df.columns"
   ]
  },
  {
   "cell_type": "code",
   "execution_count": 6,
   "id": "a3586015-8a70-4338-a7e5-cd76ab327b62",
   "metadata": {},
   "outputs": [
    {
     "name": "stdout",
     "output_type": "stream",
     "text": [
      "ACQU:ACQU(text), \n",
      "ADRS:ADRS(text), \n",
      "AFIG:AFIG(text), \n",
      "AIRE:AIRE(text), \n",
      "APPL:APPL(text), \n",
      "ATEL:ATEL(text), \n",
      "AUTP:AUTP(text), \n",
      "AUTR:AUTR(text), \n",
      "BASE:BASE(text), \n",
      "BIBL:BIBL(text), \n",
      "CANT:CANT(text), \n",
      "CATE:CATE(text), \n",
      "COM:COM(text), \n",
      "COM2:COM2(text), \n",
      "CONTACT:CONTACT(text), \n",
      "CONTIENT_IMAGE:CONTIENT_IMAGE(text), \n",
      "COOR:COOR(text), \n",
      "COORM:COORM(text), \n",
      "COPY:COPY(text), \n",
      "DATE:DATE(text), \n",
      "DBOR:DBOR(text), \n",
      "DENO:DENO(text), \n",
      "DENQ:DENQ(text), \n",
      "DEPL:DEPL(text), \n",
      "DESC:DESC(text), \n",
      "DIMS:DIMS(text), \n",
      "DMAJ:DMAJ(text), \n",
      "DMIS:DMIS(text), \n",
      "DOMN:DOMN(text), \n",
      "DOSADRS:DOSADRS(text), \n",
      "DOSS:DOSS(text), \n",
      "DOSURL:DOSURL(text), \n",
      "DOSURLP:DOSURLP(text), \n",
      "DOSURLPDF:DOSURLPDF(text), \n",
      "DPRO:DPRO(text), \n",
      "DPT:DPT(text), \n",
      "DPT_LETTRE:DPT_LETTRE(text), \n",
      "EDIF:EDIF(text), \n",
      "EMPL:EMPL(text), \n",
      "ETAT:ETAT(text), \n",
      "ETUD:ETUD(text), \n",
      "EXEC:EXEC(text), \n",
      "EXPO:EXPO(text), \n",
      "HIST:HIST(text), \n",
      "IDAGR:IDAGR(text), \n",
      "IMAGE:IMAGE(text), \n",
      "IMG:IMG(text), \n",
      "IMPL:IMPL(text), \n",
      "INSC:INSC(text), \n",
      "INSEE:INSEE(text), \n",
      "INTE:INTE(text), \n",
      "JDAT:JDAT(text), \n",
      "LARC:LARC(text), \n",
      "LIENS:LIENS(text), \n",
      "LIEU:LIEU(text), \n",
      "LINHA:LINHA(text), \n",
      "LMDP:LMDP(text), \n",
      "LOCA:LOCA(text), \n",
      "LREG:LREG(text), \n",
      "MANQUANT:MANQUANT(text), \n",
      "MATR:MATR(text), \n",
      "MEMOIRE_REFS:MEMOIRE_REFS(text), \n",
      "MEMOIRE_URLS:MEMOIRE_URLS(text), \n",
      "MFICH:MFICH(text), \n",
      "MICR:MICR(text), \n",
      "MOSA:MOSA(text), \n",
      "NART:NART(text), \n",
      "NINV:NINV(text), \n",
      "NOMS:NOMS(text), \n",
      "NUMA:NUMA(text), \n",
      "NUMP:NUMP(text), \n",
      "OBS:OBS(text), \n",
      "ORIG:ORIG(text), \n",
      "PAPP:PAPP(text), \n",
      "PARN:PARN(text), \n",
      "PART:PART(text), \n",
      "PDEN:PDEN(text), \n",
      "PDIM:PDIM(text), \n",
      "PERS:PERS(text), \n",
      "PETA:PETA(text), \n",
      "PHOTO:PHOTO(text), \n",
      "PINS:PINS(text), \n",
      "PINT:PINT(text), \n",
      "PLOC:PLOC(text), \n",
      "POP_ARRETE_PROTECTION:POP_ARRETE_PROTECTION(text), \n",
      "POP_COMMENTAIRES:POP_COMMENTAIRES(text), \n",
      "POP_CONTIENT_GEOLOCALISATION:POP_CONTIENT_GEOLOCALISATION(text), \n",
      "POP_COORDINATES_POLYGON:POP_COORDINATES_POLYGON(text), \n",
      "POP_COORDONNEES:POP_COORDONNEES(text), \n",
      "POP_DOSSIER_PROTECTION:POP_DOSSIER_PROTECTION(text), \n",
      "POP_DOSSIER_VERT:POP_DOSSIER_VERT(text), \n",
      "POP_FLAGS:POP_FLAGS(text), \n",
      "POP_IMPORT:POP_IMPORT(text), \n",
      "PPRO:PPRO(text), \n",
      "PRECISION_JURIDIQUE:PRECISION_JURIDIQUE(text), \n",
      "PREP:PREP(text), \n",
      "PRODUCTEUR:PRODUCTEUR(text), \n",
      "PROT:PROT(text), \n",
      "REF:REF(text), \n",
      "REFA:REFA(text), \n",
      "REFE:REFE(text), \n",
      "REFJOC:REFJOC(text), \n",
      "REFM:REFM(text), \n",
      "REFMUS:REFMUS(text), \n",
      "REFP:REFP(text), \n",
      "REG:REG(text), \n",
      "RENP:RENP(text), \n",
      "RENV:RENV(text), \n",
      "REPR:REPR(text), \n",
      "SCLD:SCLD(text), \n",
      "SCLE:SCLE(text), \n",
      "SCLX:SCLX(text), \n",
      "SOUR:SOUR(text), \n",
      "STAD:STAD(text), \n",
      "STAT:STAT(text), \n",
      "STRU:STRU(text), \n",
      "THEM:THEM(text), \n",
      "TICO:TICO(text), \n",
      "TITR:TITR(text), \n",
      "TOUT:TOUT(text), \n",
      "VIDEO:VIDEO(text), \n",
      "VOLS:VOLS(text), \n",
      "WADRS:WADRS(text), \n",
      "WCOM:WCOM(text), \n",
      "WEB:WEB(text), \n",
      "WRENV:WRENV(text), \n",
      "ZONE:ZONE(text)\n"
     ]
    }
   ],
   "source": [
    "print(\", \\n\".join([f\"{column}:{column}(text)\" for column in df.columns]))\n"
   ]
  },
  {
   "cell_type": "code",
   "execution_count": null,
   "id": "d122d704-a61a-4cdb-955a-d9adc79b3934",
   "metadata": {},
   "outputs": [],
   "source": []
  }
 ],
 "metadata": {
  "interpreter": {
   "hash": "42897f896e43bed7ddd2308dd889a2275c79af2a85b1d8b4321e64109665e841"
  },
  "kernelspec": {
   "display_name": "Python 3 (ipykernel)",
   "language": "python",
   "name": "python3"
  },
  "language_info": {
   "codemirror_mode": {
    "name": "ipython",
    "version": 3
   },
   "file_extension": ".py",
   "mimetype": "text/x-python",
   "name": "python",
   "nbconvert_exporter": "python",
   "pygments_lexer": "ipython3",
   "version": "3.9.7"
  }
 },
 "nbformat": 4,
 "nbformat_minor": 5
}
